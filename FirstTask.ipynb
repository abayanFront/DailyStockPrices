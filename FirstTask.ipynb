{
 "cells": [
  {
   "cell_type": "markdown",
   "metadata": {},
   "source": [
    "# Stock Prices"
   ]
  },
  {
   "cell_type": "code",
   "execution_count": 2,
   "metadata": {},
   "outputs": [],
   "source": [
    "import requests\n",
    "import pandas as pd\n",
    "import yfinance as yf\n",
    "import csv"
   ]
  },
  {
   "cell_type": "markdown",
   "metadata": {},
   "source": [
    "## Parameters"
   ]
  },
  {
   "cell_type": "code",
   "execution_count": 2,
   "metadata": {},
   "outputs": [],
   "source": [
    "#The Excel File to get ticker list\n",
    "excel_file = pd.read_excel('Q1prices2022.xlsx')\n",
    "excel_file.to_csv()\n",
    "ticker = 'GE'\n",
    "with open('csv_data.csv', 'w') as csv_file:\n",
    "    excel_file.to_csv(path_or_buf=csv_file)\n",
    "import csv\n",
    "ticker_list = []\n",
    "with open('csv_data.csv') as f:\n",
    "    reader = csv.reader(f)\n",
    "    for i in reader:\n",
    "        ticker_list.append(i[1])\n",
    "new_ticker_list = ticker_list.pop(0)"
   ]
  },
  {
   "cell_type": "code",
   "execution_count": 6,
   "metadata": {},
   "outputs": [
    {
     "name": "stdout",
     "output_type": "stream",
     "text": [
      "[*********************100%***********************]  1000 of 1000 completed\n",
      "\n",
      "1 Failed download:\n",
      "- SNSS: No data found, symbol may be delisted\n"
     ]
    }
   ],
   "source": [
    "x1 = yf.download(ticker_list[:1000],start ='2021-01-5' , end ='2021-01-5', period =\"1d\")"
   ]
  },
  {
   "cell_type": "code",
   "execution_count": 7,
   "metadata": {},
   "outputs": [
    {
     "name": "stdout",
     "output_type": "stream",
     "text": [
      "[*********************100%***********************]  1000 of 1000 completed\n",
      "\n",
      "1 Failed download:\n",
      "- FGPR: Data doesn't exist for startDate = 1609794000, endDate = 1609794000\n"
     ]
    }
   ],
   "source": [
    "x2 = yf.download(ticker_list[1000:2000],start ='2021-01-5' , end ='2021-01-5', period =\"1d\")"
   ]
  },
  {
   "cell_type": "code",
   "execution_count": 8,
   "metadata": {},
   "outputs": [
    {
     "name": "stdout",
     "output_type": "stream",
     "text": [
      "[*********************100%***********************]  239 of 239 completed\n"
     ]
    }
   ],
   "source": [
    "x3 = yf.download(ticker_list[2000:],start ='2021-01-5' , end ='2021-01-5', period =\"1d\")"
   ]
  },
  {
   "cell_type": "code",
   "execution_count": 11,
   "metadata": {},
   "outputs": [],
   "source": [
    "x3['Adj Close'].T.append(x1['Adj Close'].T.append(x2['Adj Close'].T)).to_excel('2021.xlsx')"
   ]
  }
 ],
 "metadata": {
  "kernelspec": {
   "display_name": "Python 3 (ipykernel)",
   "language": "python",
   "name": "python3"
  },
  "language_info": {
   "codemirror_mode": {
    "name": "ipython",
    "version": 3
   },
   "file_extension": ".py",
   "mimetype": "text/x-python",
   "name": "python",
   "nbconvert_exporter": "python",
   "pygments_lexer": "ipython3",
   "version": "3.9.7"
  }
 },
 "nbformat": 4,
 "nbformat_minor": 4
}
